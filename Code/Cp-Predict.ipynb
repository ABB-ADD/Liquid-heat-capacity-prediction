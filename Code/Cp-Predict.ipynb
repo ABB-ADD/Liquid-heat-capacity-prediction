{
 "cells": [
  {
   "cell_type": "code",
   "execution_count": 1,
   "metadata": {},
   "outputs": [],
   "source": [
    "import pandas as pd\n",
    "import matplotlib.pyplot as plt\n",
    "import seaborn as sns\n",
    "import numpy as np\n",
    "import statsmodels.api as sm\n",
    "import joblib\n",
    "from sklearn.ensemble import GradientBoostingRegressor\n",
    "from sklearn.model_selection import GridSearchCV\n",
    "from sklearn.model_selection import RandomizedSearchCV\n",
    "from pandas import Series, DataFrame\n",
    "import warnings\n",
    "warnings.filterwarnings('ignore')\n",
    "from sklearn.decomposition import PCA\n",
    "from sklearn.linear_model import Ridge,RidgeCV#线性回归模型的岭回归\n",
    "from datetime import datetime\n",
    "# from sklearn.externals import joblib\n",
    "from sklearn.utils import shuffle\n",
    "from sklearn.preprocessing import MinMaxScaler, StandardScaler\n",
    "from sklearn.feature_selection import RFECV\n",
    "from sklearn.feature_selection import RFE\n",
    "from sklearn.preprocessing import scale\n",
    "from sklearn.linear_model import LinearRegression\n",
    "from sklearn.metrics import mean_squared_error\n",
    "from sklearn.metrics import mean_absolute_error\n",
    "from sklearn.svm import SVR\n",
    "from sklearn.ensemble import RandomForestClassifier     #随机森林用于分类\n",
    "from sklearn.ensemble import RandomForestRegressor as RFR      #随机森林用于回归\n",
    "from sklearn.model_selection import train_test_split           #划分训练集与测试集\n",
    "from sklearn import metrics    \n",
    "from sklearn.metrics import r2_score              #用于模型拟合优度评估\n",
    "from sklearn.metrics import mean_squared_error\n",
    "from sklearn.metrics import mean_absolute_error\n",
    "from sklearn.model_selection import cross_val_score\n",
    "from scipy.stats import pearsonr\n",
    "pd.options.display.max_rows = None\n",
    "import xgboost as xgb\n",
    "\n",
    "import rdkit\n",
    "import pandas as pd\n",
    "import numpy as np\n",
    "from collections import Counter\n",
    "\n",
    "from rdkit import Chem\n",
    "from rdkit.Chem import Descriptors\n",
    "from rdkit.ML.Descriptors import MoleculeDescriptors\n",
    "from mordred import Calculator, descriptors\n",
    "from warnings import simplefilter\n",
    "simplefilter(action='ignore', category=FutureWarning)\n",
    "\n"
   ]
  },
  {
   "cell_type": "code",
   "execution_count": 2,
   "metadata": {},
   "outputs": [],
   "source": [
    "import joblib\n",
    "\n",
    "GBRT_model = joblib.load(\"Model/Cp-GBRT-0.969.pkl\")\n",
    "GBRT_out= pd.read_excel(\"Out_data/Cp-GBRT-0.969.xlsx\")\n",
    "\n"
   ]
  },
  {
   "cell_type": "code",
   "execution_count": 3,
   "metadata": {},
   "outputs": [],
   "source": [
    "#molecule1\n",
    "mols = Chem.SDMolSupplier(\"75-28-5-3d.sdf\",strictParsing=False)\n",
    "# Temperature（K）\n",
    "Temperature = 303.65\n",
    "# Cp(J/mol·K)\n",
    "Cp = 142.970"
   ]
  },
  {
   "cell_type": "code",
   "execution_count": 4,
   "metadata": {},
   "outputs": [
    {
     "name": "stderr",
     "output_type": "stream",
     "text": [
      "100%|██████████| 1/1 [00:00<00:00,  4.84it/s]\n"
     ]
    },
    {
     "name": "stdout",
     "output_type": "stream",
     "text": [
      "1\n"
     ]
    },
    {
     "data": {
      "text/html": [
       "<div>\n",
       "<style scoped>\n",
       "    .dataframe tbody tr th:only-of-type {\n",
       "        vertical-align: middle;\n",
       "    }\n",
       "\n",
       "    .dataframe tbody tr th {\n",
       "        vertical-align: top;\n",
       "    }\n",
       "\n",
       "    .dataframe thead th {\n",
       "        text-align: right;\n",
       "    }\n",
       "</style>\n",
       "<table border=\"1\" class=\"dataframe\">\n",
       "  <thead>\n",
       "    <tr style=\"text-align: right;\">\n",
       "      <th></th>\n",
       "      <th>Temperature</th>\n",
       "      <th>ATS0s</th>\n",
       "      <th>ATS0pe</th>\n",
       "      <th>ATSC0m</th>\n",
       "      <th>NumValenceElectrons</th>\n",
       "      <th>Kappa2</th>\n",
       "    </tr>\n",
       "  </thead>\n",
       "  <tbody>\n",
       "    <tr>\n",
       "      <th>0</th>\n",
       "      <td>303.65</td>\n",
       "      <td>23.777778</td>\n",
       "      <td>74.41</td>\n",
       "      <td>345.902883</td>\n",
       "      <td>26</td>\n",
       "      <td>1.333333</td>\n",
       "    </tr>\n",
       "  </tbody>\n",
       "</table>\n",
       "</div>"
      ],
      "text/plain": [
       "   Temperature      ATS0s  ATS0pe      ATSC0m  NumValenceElectrons    Kappa2\n",
       "0       303.65  23.777778   74.41  345.902883                   26  1.333333"
      ]
     },
     "execution_count": 4,
     "metadata": {},
     "output_type": "execute_result"
    }
   ],
   "source": [
    "# Molecular descriptor computation\n",
    "calc = Calculator(descriptors, ignore_3D=True)\n",
    "Mordred_description = []\n",
    "Rdkit_description = [x[0] for x in Descriptors._descList]\n",
    "for i in calc.descriptors:\n",
    "    Mordred_description.append(i.__str__())\n",
    "for i in Mordred_description:\n",
    "    if i in Rdkit_description:\n",
    "        Rdkit_description.remove(i)\n",
    "        \n",
    "Molecular_descriptor = []\n",
    "\n",
    "descriptor_calculator = MoleculeDescriptors.MolecularDescriptorCalculator(Rdkit_description)\n",
    "j =0\n",
    "for i in mols:\n",
    "    Calculator_descript = pd.DataFrame(calc.pandas([i]))\n",
    "    rdkit_descriptors = pd.DataFrame([descriptor_calculator.CalcDescriptors(i)],columns=Rdkit_description)\n",
    "    Calculator_descript = Calculator_descript.join(rdkit_descriptors)\n",
    "    Molecular_descriptor.append(Calculator_descript)\n",
    "    j+=1\n",
    "    print(j)\n",
    "    \n",
    "a = Molecular_descriptor[0]\n",
    "for i in Molecular_descriptor[1:]:\n",
    "    a = a.append(i)\n",
    "a = a.reset_index(drop=True)\n",
    "# Delete a value that failed to be computed\n",
    "a = a.drop(labels=a.dtypes[a.dtypes == \"object\"].index,axis=1)\n",
    "a = a.loc[:,[\"ATS0s\",\"ATS0pe\",\"ATSC0m\",\"NumValenceElectrons\",\"Kappa2\"]]\n",
    "a.insert(0, \"Temperature\",Temperature)\n",
    "b = a.copy()\n",
    "a\n"
   ]
  },
  {
   "cell_type": "code",
   "execution_count": 9,
   "metadata": {},
   "outputs": [
    {
     "name": "stdout",
     "output_type": "stream",
     "text": [
      "predict_value 134.2806661115856\n"
     ]
    }
   ],
   "source": [
    "# Data standardization\n",
    "GBRT_train = GBRT_out.iloc[:int(len(GBRT_out)*0.7)-1,4:]\n",
    "\n",
    "GBRT_stand_scaler = StandardScaler()\n",
    "GBRT_train_std = GBRT_stand_scaler.fit_transform(GBRT_train)\n",
    "GBRT_test_std_1 = GBRT_stand_scaler.transform(a) \n",
    "\n",
    "\n",
    "predict_value = GBRT_model.predict(GBRT_test_std_1)\n",
    "print(\"predict_value\",predict_value[0])\n",
    "# r2 = r2_score(Cp, GBRT_model.predict(predict_value))\n",
    "# print(\"r2\",r2)\n",
    "\n"
   ]
  },
  {
   "cell_type": "code",
   "execution_count": null,
   "metadata": {},
   "outputs": [],
   "source": []
  }
 ],
 "metadata": {
  "kernelspec": {
   "display_name": "Python 3",
   "language": "python",
   "name": "python3"
  },
  "language_info": {
   "codemirror_mode": {
    "name": "ipython",
    "version": 3
   },
   "file_extension": ".py",
   "mimetype": "text/x-python",
   "name": "python",
   "nbconvert_exporter": "python",
   "pygments_lexer": "ipython3",
   "version": "3.7.6"
  }
 },
 "nbformat": 4,
 "nbformat_minor": 4
}
