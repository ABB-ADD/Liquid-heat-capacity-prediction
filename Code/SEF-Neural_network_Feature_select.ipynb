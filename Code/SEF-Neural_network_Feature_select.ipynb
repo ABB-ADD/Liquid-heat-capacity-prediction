{
 "cells": [
  {
   "cell_type": "code",
   "execution_count": 1,
   "metadata": {},
   "outputs": [],
   "source": [
    "import pandas as pd\n",
    "import matplotlib.pyplot as plt\n",
    "import seaborn as sns\n",
    "import numpy as np\n",
    "import statsmodels.api as sm\n",
    "import joblib\n",
    "from sklearn.ensemble import GradientBoostingRegressor\n",
    "from sklearn.model_selection import GridSearchCV\n",
    "from sklearn.model_selection import RandomizedSearchCV\n",
    "from pandas import Series, DataFrame\n",
    "\n",
    "from sklearn.decomposition import PCA\n",
    "from sklearn.linear_model import Ridge,RidgeCV#线性回归模型的岭回归\n",
    "from datetime import datetime\n",
    "from sklearn.preprocessing import MinMaxScaler, StandardScaler\n",
    "from sklearn.neural_network import MLPRegressor\n",
    "\n",
    "\n",
    "# from sklearn.externals import joblib\n",
    "from sklearn.utils import shuffle\n",
    "from sklearn.preprocessing import scale\n",
    "from sklearn.linear_model import LinearRegression\n",
    "from sklearn.metrics import mean_squared_error\n",
    "from sklearn.metrics import mean_absolute_error\n",
    "from sklearn.svm import SVR\n",
    "from sklearn.ensemble import RandomForestClassifier     #随机森林用于分类\n",
    "from sklearn.ensemble import RandomForestRegressor as RFR      #随机森林用于回归\n",
    "from sklearn.model_selection import train_test_split           #划分训练集与测试集\n",
    "from sklearn import metrics    \n",
    "from sklearn.metrics import r2_score              #用于模型拟合优度评估\n",
    "from collections import Counter\n",
    "import xgboost as xgb\n"
   ]
  },
  {
   "cell_type": "code",
   "execution_count": 15,
   "metadata": {},
   "outputs": [
    {
     "data": {
      "text/html": [
       "<div>\n",
       "<style scoped>\n",
       "    .dataframe tbody tr th:only-of-type {\n",
       "        vertical-align: middle;\n",
       "    }\n",
       "\n",
       "    .dataframe tbody tr th {\n",
       "        vertical-align: top;\n",
       "    }\n",
       "\n",
       "    .dataframe thead th {\n",
       "        text-align: right;\n",
       "    }\n",
       "</style>\n",
       "<table border=\"1\" class=\"dataframe\">\n",
       "  <thead>\n",
       "    <tr style=\"text-align: right;\">\n",
       "      <th></th>\n",
       "      <th>NAME</th>\n",
       "      <th>LEF</th>\n",
       "      <th>AATS2d</th>\n",
       "      <th>AATS2m</th>\n",
       "      <th>AATS1v</th>\n",
       "      <th>AATS0i</th>\n",
       "      <th>ATSC0dv</th>\n",
       "      <th>ATSC1dv</th>\n",
       "      <th>ATSC3dv</th>\n",
       "      <th>ATSC4dv</th>\n",
       "      <th>...</th>\n",
       "      <th>Chi4v</th>\n",
       "      <th>HallKierAlpha</th>\n",
       "      <th>Kappa1</th>\n",
       "      <th>Kappa2</th>\n",
       "      <th>Kappa3</th>\n",
       "      <th>SMR_VSA5</th>\n",
       "      <th>NOCount</th>\n",
       "      <th>NumHeteroatoms</th>\n",
       "      <th>NumRotatableBonds</th>\n",
       "      <th>MolLogP</th>\n",
       "    </tr>\n",
       "  </thead>\n",
       "  <tbody>\n",
       "    <tr>\n",
       "      <th>0</th>\n",
       "      <td>79-06-1</td>\n",
       "      <td>-224.0</td>\n",
       "      <td>2.000000</td>\n",
       "      <td>66.953236</td>\n",
       "      <td>220.990654</td>\n",
       "      <td>170.166268</td>\n",
       "      <td>41.600000</td>\n",
       "      <td>7.560000</td>\n",
       "      <td>-29.520000</td>\n",
       "      <td>-13.680000</td>\n",
       "      <td>...</td>\n",
       "      <td>0.000000</td>\n",
       "      <td>-0.79</td>\n",
       "      <td>4.210000</td>\n",
       "      <td>1.521526</td>\n",
       "      <td>3.210000</td>\n",
       "      <td>0.000000</td>\n",
       "      <td>2</td>\n",
       "      <td>2</td>\n",
       "      <td>1</td>\n",
       "      <td>-0.34230</td>\n",
       "    </tr>\n",
       "    <tr>\n",
       "      <th>1</th>\n",
       "      <td>79-09-4</td>\n",
       "      <td>-510.8</td>\n",
       "      <td>1.812500</td>\n",
       "      <td>55.342566</td>\n",
       "      <td>210.818952</td>\n",
       "      <td>169.162868</td>\n",
       "      <td>52.545455</td>\n",
       "      <td>15.322314</td>\n",
       "      <td>-33.479339</td>\n",
       "      <td>-31.537190</td>\n",
       "      <td>...</td>\n",
       "      <td>0.000000</td>\n",
       "      <td>-0.53</td>\n",
       "      <td>4.470000</td>\n",
       "      <td>1.758184</td>\n",
       "      <td>3.470000</td>\n",
       "      <td>13.344559</td>\n",
       "      <td>2</td>\n",
       "      <td>2</td>\n",
       "      <td>1</td>\n",
       "      <td>0.48100</td>\n",
       "    </tr>\n",
       "    <tr>\n",
       "      <th>2</th>\n",
       "      <td>51-79-6</td>\n",
       "      <td>-497.3</td>\n",
       "      <td>1.894737</td>\n",
       "      <td>61.193475</td>\n",
       "      <td>200.027602</td>\n",
       "      <td>173.611482</td>\n",
       "      <td>64.769231</td>\n",
       "      <td>22.059172</td>\n",
       "      <td>-41.526627</td>\n",
       "      <td>-35.650888</td>\n",
       "      <td>...</td>\n",
       "      <td>0.142259</td>\n",
       "      <td>-0.73</td>\n",
       "      <td>5.270000</td>\n",
       "      <td>2.504192</td>\n",
       "      <td>3.270000</td>\n",
       "      <td>6.923737</td>\n",
       "      <td>3</td>\n",
       "      <td>3</td>\n",
       "      <td>1</td>\n",
       "      <td>0.10160</td>\n",
       "    </tr>\n",
       "    <tr>\n",
       "      <th>3</th>\n",
       "      <td>55-63-0</td>\n",
       "      <td>-370.0</td>\n",
       "      <td>2.933333</td>\n",
       "      <td>129.221864</td>\n",
       "      <td>231.264568</td>\n",
       "      <td>180.387654</td>\n",
       "      <td>139.200000</td>\n",
       "      <td>28.160000</td>\n",
       "      <td>8.120000</td>\n",
       "      <td>-105.040000</td>\n",
       "      <td>...</td>\n",
       "      <td>0.518670</td>\n",
       "      <td>-2.40</td>\n",
       "      <td>12.600000</td>\n",
       "      <td>6.114543</td>\n",
       "      <td>7.944828</td>\n",
       "      <td>6.103966</td>\n",
       "      <td>12</td>\n",
       "      <td>12</td>\n",
       "      <td>8</td>\n",
       "      <td>-1.02010</td>\n",
       "    </tr>\n",
       "    <tr>\n",
       "      <th>4</th>\n",
       "      <td>56-81-5</td>\n",
       "      <td>-669.6</td>\n",
       "      <td>2.095238</td>\n",
       "      <td>52.597665</td>\n",
       "      <td>198.072791</td>\n",
       "      <td>172.577010</td>\n",
       "      <td>57.428571</td>\n",
       "      <td>-12.040816</td>\n",
       "      <td>7.816327</td>\n",
       "      <td>-8.000000</td>\n",
       "      <td>...</td>\n",
       "      <td>0.057735</td>\n",
       "      <td>-0.12</td>\n",
       "      <td>5.880000</td>\n",
       "      <td>3.084918</td>\n",
       "      <td>2.137732</td>\n",
       "      <td>6.103966</td>\n",
       "      <td>3</td>\n",
       "      <td>3</td>\n",
       "      <td>2</td>\n",
       "      <td>-1.66810</td>\n",
       "    </tr>\n",
       "    <tr>\n",
       "      <th>...</th>\n",
       "      <td>...</td>\n",
       "      <td>...</td>\n",
       "      <td>...</td>\n",
       "      <td>...</td>\n",
       "      <td>...</td>\n",
       "      <td>...</td>\n",
       "      <td>...</td>\n",
       "      <td>...</td>\n",
       "      <td>...</td>\n",
       "      <td>...</td>\n",
       "      <td>...</td>\n",
       "      <td>...</td>\n",
       "      <td>...</td>\n",
       "      <td>...</td>\n",
       "      <td>...</td>\n",
       "      <td>...</td>\n",
       "      <td>...</td>\n",
       "      <td>...</td>\n",
       "      <td>...</td>\n",
       "      <td>...</td>\n",
       "      <td>...</td>\n",
       "    </tr>\n",
       "    <tr>\n",
       "      <th>1463</th>\n",
       "      <td>146377-62-0</td>\n",
       "      <td>-467.7</td>\n",
       "      <td>2.805556</td>\n",
       "      <td>70.286882</td>\n",
       "      <td>262.222473</td>\n",
       "      <td>171.306364</td>\n",
       "      <td>99.809524</td>\n",
       "      <td>7.619048</td>\n",
       "      <td>-39.877551</td>\n",
       "      <td>-12.217687</td>\n",
       "      <td>...</td>\n",
       "      <td>0.920453</td>\n",
       "      <td>-0.92</td>\n",
       "      <td>8.179206</td>\n",
       "      <td>4.062325</td>\n",
       "      <td>3.119022</td>\n",
       "      <td>19.267088</td>\n",
       "      <td>0</td>\n",
       "      <td>2</td>\n",
       "      <td>3</td>\n",
       "      <td>2.88430</td>\n",
       "    </tr>\n",
       "    <tr>\n",
       "      <th>1464</th>\n",
       "      <td>150895-64-0</td>\n",
       "      <td>131.9</td>\n",
       "      <td>3.274510</td>\n",
       "      <td>38.871778</td>\n",
       "      <td>247.071024</td>\n",
       "      <td>162.562538</td>\n",
       "      <td>41.846154</td>\n",
       "      <td>18.242604</td>\n",
       "      <td>-15.550296</td>\n",
       "      <td>-25.822485</td>\n",
       "      <td>...</td>\n",
       "      <td>2.830849</td>\n",
       "      <td>0.00</td>\n",
       "      <td>5.625000</td>\n",
       "      <td>1.440000</td>\n",
       "      <td>0.627200</td>\n",
       "      <td>39.027845</td>\n",
       "      <td>0</td>\n",
       "      <td>0</td>\n",
       "      <td>2</td>\n",
       "      <td>2.83260</td>\n",
       "    </tr>\n",
       "    <tr>\n",
       "      <th>1465</th>\n",
       "      <td>150895-65-1</td>\n",
       "      <td>134.1</td>\n",
       "      <td>3.274510</td>\n",
       "      <td>38.871778</td>\n",
       "      <td>247.071024</td>\n",
       "      <td>162.562538</td>\n",
       "      <td>41.846154</td>\n",
       "      <td>18.242604</td>\n",
       "      <td>-15.550296</td>\n",
       "      <td>-25.822485</td>\n",
       "      <td>...</td>\n",
       "      <td>2.830849</td>\n",
       "      <td>0.00</td>\n",
       "      <td>5.625000</td>\n",
       "      <td>1.440000</td>\n",
       "      <td>0.627200</td>\n",
       "      <td>39.027845</td>\n",
       "      <td>0</td>\n",
       "      <td>0</td>\n",
       "      <td>2</td>\n",
       "      <td>2.83260</td>\n",
       "    </tr>\n",
       "    <tr>\n",
       "      <th>1466</th>\n",
       "      <td>162047-90-7</td>\n",
       "      <td>-217.9</td>\n",
       "      <td>2.342105</td>\n",
       "      <td>48.404518</td>\n",
       "      <td>215.982377</td>\n",
       "      <td>167.644605</td>\n",
       "      <td>73.272727</td>\n",
       "      <td>31.785124</td>\n",
       "      <td>-26.966942</td>\n",
       "      <td>-46.561983</td>\n",
       "      <td>...</td>\n",
       "      <td>0.680669</td>\n",
       "      <td>-0.55</td>\n",
       "      <td>8.450000</td>\n",
       "      <td>3.470660</td>\n",
       "      <td>2.477911</td>\n",
       "      <td>32.290168</td>\n",
       "      <td>2</td>\n",
       "      <td>2</td>\n",
       "      <td>3</td>\n",
       "      <td>1.71518</td>\n",
       "    </tr>\n",
       "    <tr>\n",
       "      <th>1467</th>\n",
       "      <td>162047-91-8</td>\n",
       "      <td>-223.5</td>\n",
       "      <td>2.631579</td>\n",
       "      <td>50.435730</td>\n",
       "      <td>215.982377</td>\n",
       "      <td>167.644605</td>\n",
       "      <td>75.272727</td>\n",
       "      <td>27.785124</td>\n",
       "      <td>-1.603306</td>\n",
       "      <td>-49.413223</td>\n",
       "      <td>...</td>\n",
       "      <td>0.599907</td>\n",
       "      <td>-0.55</td>\n",
       "      <td>8.450000</td>\n",
       "      <td>2.838201</td>\n",
       "      <td>2.477911</td>\n",
       "      <td>26.875178</td>\n",
       "      <td>2</td>\n",
       "      <td>2</td>\n",
       "      <td>1</td>\n",
       "      <td>1.57108</td>\n",
       "    </tr>\n",
       "  </tbody>\n",
       "</table>\n",
       "<p>1420 rows × 108 columns</p>\n",
       "</div>"
      ],
      "text/plain": [
       "             NAME    LEF    AATS2d      AATS2m      AATS1v      AATS0i  \\\n",
       "0         79-06-1 -224.0  2.000000   66.953236  220.990654  170.166268   \n",
       "1         79-09-4 -510.8  1.812500   55.342566  210.818952  169.162868   \n",
       "2         51-79-6 -497.3  1.894737   61.193475  200.027602  173.611482   \n",
       "3         55-63-0 -370.0  2.933333  129.221864  231.264568  180.387654   \n",
       "4         56-81-5 -669.6  2.095238   52.597665  198.072791  172.577010   \n",
       "...           ...    ...       ...         ...         ...         ...   \n",
       "1463  146377-62-0 -467.7  2.805556   70.286882  262.222473  171.306364   \n",
       "1464  150895-64-0  131.9  3.274510   38.871778  247.071024  162.562538   \n",
       "1465  150895-65-1  134.1  3.274510   38.871778  247.071024  162.562538   \n",
       "1466  162047-90-7 -217.9  2.342105   48.404518  215.982377  167.644605   \n",
       "1467  162047-91-8 -223.5  2.631579   50.435730  215.982377  167.644605   \n",
       "\n",
       "         ATSC0dv    ATSC1dv    ATSC3dv     ATSC4dv  ...     Chi4v  \\\n",
       "0      41.600000   7.560000 -29.520000  -13.680000  ...  0.000000   \n",
       "1      52.545455  15.322314 -33.479339  -31.537190  ...  0.000000   \n",
       "2      64.769231  22.059172 -41.526627  -35.650888  ...  0.142259   \n",
       "3     139.200000  28.160000   8.120000 -105.040000  ...  0.518670   \n",
       "4      57.428571 -12.040816   7.816327   -8.000000  ...  0.057735   \n",
       "...          ...        ...        ...         ...  ...       ...   \n",
       "1463   99.809524   7.619048 -39.877551  -12.217687  ...  0.920453   \n",
       "1464   41.846154  18.242604 -15.550296  -25.822485  ...  2.830849   \n",
       "1465   41.846154  18.242604 -15.550296  -25.822485  ...  2.830849   \n",
       "1466   73.272727  31.785124 -26.966942  -46.561983  ...  0.680669   \n",
       "1467   75.272727  27.785124  -1.603306  -49.413223  ...  0.599907   \n",
       "\n",
       "      HallKierAlpha     Kappa1    Kappa2    Kappa3   SMR_VSA5  NOCount  \\\n",
       "0             -0.79   4.210000  1.521526  3.210000   0.000000        2   \n",
       "1             -0.53   4.470000  1.758184  3.470000  13.344559        2   \n",
       "2             -0.73   5.270000  2.504192  3.270000   6.923737        3   \n",
       "3             -2.40  12.600000  6.114543  7.944828   6.103966       12   \n",
       "4             -0.12   5.880000  3.084918  2.137732   6.103966        3   \n",
       "...             ...        ...       ...       ...        ...      ...   \n",
       "1463          -0.92   8.179206  4.062325  3.119022  19.267088        0   \n",
       "1464           0.00   5.625000  1.440000  0.627200  39.027845        0   \n",
       "1465           0.00   5.625000  1.440000  0.627200  39.027845        0   \n",
       "1466          -0.55   8.450000  3.470660  2.477911  32.290168        2   \n",
       "1467          -0.55   8.450000  2.838201  2.477911  26.875178        2   \n",
       "\n",
       "      NumHeteroatoms  NumRotatableBonds  MolLogP  \n",
       "0                  2                  1 -0.34230  \n",
       "1                  2                  1  0.48100  \n",
       "2                  3                  1  0.10160  \n",
       "3                 12                  8 -1.02010  \n",
       "4                  3                  2 -1.66810  \n",
       "...              ...                ...      ...  \n",
       "1463               2                  3  2.88430  \n",
       "1464               0                  2  2.83260  \n",
       "1465               0                  2  2.83260  \n",
       "1466               2                  3  1.71518  \n",
       "1467               2                  1  1.57108  \n",
       "\n",
       "[1420 rows x 108 columns]"
      ]
     },
     "execution_count": 15,
     "metadata": {},
     "output_type": "execute_result"
    }
   ],
   "source": [
    "data = pd.read_excel('Data/LEF-Rdkit+Mordred_only-1420-108-filter_afterprogress.xlsx',index_col=0)\n",
    "random_data = shuffle(data)\n",
    "data"
   ]
  },
  {
   "cell_type": "code",
   "execution_count": 9,
   "metadata": {
    "scrolled": true
   },
   "outputs": [
    {
     "name": "stdout",
     "output_type": "stream",
     "text": [
      "交叉验证Running time: 0:05:32.617568 Seconds\n",
      "1\n"
     ]
    },
    {
     "name": "stderr",
     "output_type": "stream",
     "text": [
      "[Parallel(n_jobs=-1)]: Using backend LokyBackend with 36 concurrent workers.\n",
      "[Parallel(n_jobs=-1)]: Done   5 out of  10 | elapsed:   13.8s remaining:   13.8s\n",
      "[Parallel(n_jobs=-1)]: Done  10 out of  10 | elapsed:   22.6s finished\n"
     ]
    },
    {
     "name": "stdout",
     "output_type": "stream",
     "text": [
      "交叉验证Running time: 0:05:30.881661 Seconds\n",
      "2\n"
     ]
    },
    {
     "name": "stderr",
     "output_type": "stream",
     "text": [
      "[Parallel(n_jobs=-1)]: Using backend LokyBackend with 36 concurrent workers.\n",
      "[Parallel(n_jobs=-1)]: Done   5 out of  10 | elapsed:   11.8s remaining:   11.8s\n",
      "[Parallel(n_jobs=-1)]: Done  10 out of  10 | elapsed:   13.7s finished\n"
     ]
    },
    {
     "name": "stdout",
     "output_type": "stream",
     "text": [
      "交叉验证Running time: 0:05:28.034392 Seconds\n",
      "3\n"
     ]
    },
    {
     "name": "stderr",
     "output_type": "stream",
     "text": [
      "[Parallel(n_jobs=-1)]: Using backend LokyBackend with 36 concurrent workers.\n",
      "[Parallel(n_jobs=-1)]: Done   5 out of  10 | elapsed:   12.2s remaining:   12.2s\n",
      "[Parallel(n_jobs=-1)]: Done  10 out of  10 | elapsed:   13.2s finished\n"
     ]
    },
    {
     "name": "stdout",
     "output_type": "stream",
     "text": [
      "交叉验证Running time: 0:05:23.317218 Seconds\n",
      "4\n"
     ]
    },
    {
     "name": "stderr",
     "output_type": "stream",
     "text": [
      "[Parallel(n_jobs=-1)]: Using backend LokyBackend with 36 concurrent workers.\n",
      "[Parallel(n_jobs=-1)]: Done   5 out of  10 | elapsed:   12.3s remaining:   12.3s\n",
      "[Parallel(n_jobs=-1)]: Done  10 out of  10 | elapsed:   16.1s finished\n"
     ]
    },
    {
     "name": "stdout",
     "output_type": "stream",
     "text": [
      "交叉验证Running time: 0:05:14.129676 Seconds\n",
      "5\n"
     ]
    },
    {
     "name": "stderr",
     "output_type": "stream",
     "text": [
      "[Parallel(n_jobs=-1)]: Using backend LokyBackend with 36 concurrent workers.\n",
      "[Parallel(n_jobs=-1)]: Done   5 out of  10 | elapsed:   17.8s remaining:   17.8s\n",
      "[Parallel(n_jobs=-1)]: Done  10 out of  10 | elapsed:   35.2s finished\n"
     ]
    },
    {
     "name": "stdout",
     "output_type": "stream",
     "text": [
      "交叉验证Running time: 0:05:05.522675 Seconds\n",
      "6\n"
     ]
    },
    {
     "name": "stderr",
     "output_type": "stream",
     "text": [
      "[Parallel(n_jobs=-1)]: Using backend LokyBackend with 36 concurrent workers.\n",
      "[Parallel(n_jobs=-1)]: Done   5 out of  10 | elapsed:   27.9s remaining:   27.9s\n",
      "[Parallel(n_jobs=-1)]: Done  10 out of  10 | elapsed:   36.4s finished\n"
     ]
    },
    {
     "name": "stdout",
     "output_type": "stream",
     "text": [
      "交叉验证Running time: 0:04:55.072687 Seconds\n",
      "7\n"
     ]
    },
    {
     "name": "stderr",
     "output_type": "stream",
     "text": [
      "[Parallel(n_jobs=-1)]: Using backend LokyBackend with 36 concurrent workers.\n",
      "[Parallel(n_jobs=-1)]: Done   5 out of  10 | elapsed:   30.9s remaining:   30.9s\n",
      "[Parallel(n_jobs=-1)]: Done  10 out of  10 | elapsed:   39.4s finished\n"
     ]
    },
    {
     "name": "stdout",
     "output_type": "stream",
     "text": [
      "交叉验证Running time: 0:04:44.442367 Seconds\n",
      "8\n"
     ]
    },
    {
     "name": "stderr",
     "output_type": "stream",
     "text": [
      "[Parallel(n_jobs=-1)]: Using backend LokyBackend with 36 concurrent workers.\n",
      "[Parallel(n_jobs=-1)]: Done   5 out of  10 | elapsed:   26.4s remaining:   26.4s\n",
      "[Parallel(n_jobs=-1)]: Done  10 out of  10 | elapsed:   35.7s finished\n"
     ]
    },
    {
     "name": "stdout",
     "output_type": "stream",
     "text": [
      "交叉验证Running time: 0:04:39.610447 Seconds\n",
      "9\n"
     ]
    },
    {
     "name": "stderr",
     "output_type": "stream",
     "text": [
      "[Parallel(n_jobs=-1)]: Using backend LokyBackend with 36 concurrent workers.\n",
      "[Parallel(n_jobs=-1)]: Done   5 out of  10 | elapsed:   31.8s remaining:   31.8s\n",
      "[Parallel(n_jobs=-1)]: Done  10 out of  10 | elapsed:   44.6s finished\n"
     ]
    },
    {
     "name": "stdout",
     "output_type": "stream",
     "text": [
      "交叉验证Running time: 0:04:28.267945 Seconds\n",
      "10\n"
     ]
    },
    {
     "name": "stderr",
     "output_type": "stream",
     "text": [
      "[Parallel(n_jobs=-1)]: Using backend LokyBackend with 36 concurrent workers.\n",
      "[Parallel(n_jobs=-1)]: Done   5 out of  10 | elapsed:   25.2s remaining:   25.2s\n",
      "[Parallel(n_jobs=-1)]: Done  10 out of  10 | elapsed:   42.3s finished\n"
     ]
    },
    {
     "name": "stdout",
     "output_type": "stream",
     "text": [
      "交叉验证Running time: 0:04:20.836046 Seconds\n",
      "11\n"
     ]
    },
    {
     "name": "stderr",
     "output_type": "stream",
     "text": [
      "[Parallel(n_jobs=-1)]: Using backend LokyBackend with 36 concurrent workers.\n",
      "[Parallel(n_jobs=-1)]: Done   5 out of  10 | elapsed:   25.0s remaining:   25.0s\n",
      "[Parallel(n_jobs=-1)]: Done  10 out of  10 | elapsed:   44.7s finished\n"
     ]
    },
    {
     "name": "stdout",
     "output_type": "stream",
     "text": [
      "交叉验证Running time: 0:04:11.022854 Seconds\n",
      "12\n"
     ]
    },
    {
     "name": "stderr",
     "output_type": "stream",
     "text": [
      "[Parallel(n_jobs=-1)]: Using backend LokyBackend with 36 concurrent workers.\n",
      "[Parallel(n_jobs=-1)]: Done   5 out of  10 | elapsed:   17.4s remaining:   17.4s\n",
      "[Parallel(n_jobs=-1)]: Done  10 out of  10 | elapsed:   35.8s finished\n"
     ]
    },
    {
     "name": "stdout",
     "output_type": "stream",
     "text": [
      "交叉验证Running time: 0:03:57.505406 Seconds\n",
      "13\n"
     ]
    },
    {
     "name": "stderr",
     "output_type": "stream",
     "text": [
      "[Parallel(n_jobs=-1)]: Using backend LokyBackend with 36 concurrent workers.\n",
      "[Parallel(n_jobs=-1)]: Done   5 out of  10 | elapsed:   29.4s remaining:   29.4s\n",
      "[Parallel(n_jobs=-1)]: Done  10 out of  10 | elapsed:   47.1s finished\n"
     ]
    },
    {
     "name": "stdout",
     "output_type": "stream",
     "text": [
      "交叉验证Running time: 0:03:48.142547 Seconds\n",
      "14\n"
     ]
    },
    {
     "name": "stderr",
     "output_type": "stream",
     "text": [
      "[Parallel(n_jobs=-1)]: Using backend LokyBackend with 36 concurrent workers.\n",
      "[Parallel(n_jobs=-1)]: Done   5 out of  10 | elapsed:   30.2s remaining:   30.2s\n",
      "[Parallel(n_jobs=-1)]: Done  10 out of  10 | elapsed:   39.3s finished\n"
     ]
    },
    {
     "name": "stdout",
     "output_type": "stream",
     "text": [
      "交叉验证Running time: 0:03:34.823882 Seconds\n",
      "15\n"
     ]
    },
    {
     "name": "stderr",
     "output_type": "stream",
     "text": [
      "[Parallel(n_jobs=-1)]: Using backend LokyBackend with 36 concurrent workers.\n",
      "[Parallel(n_jobs=-1)]: Done   5 out of  10 | elapsed:   31.8s remaining:   31.8s\n",
      "[Parallel(n_jobs=-1)]: Done  10 out of  10 | elapsed:   35.9s finished\n"
     ]
    },
    {
     "name": "stdout",
     "output_type": "stream",
     "text": [
      "交叉验证Running time: 0:03:28.819903 Seconds\n",
      "16\n"
     ]
    },
    {
     "name": "stderr",
     "output_type": "stream",
     "text": [
      "[Parallel(n_jobs=-1)]: Using backend LokyBackend with 36 concurrent workers.\n",
      "[Parallel(n_jobs=-1)]: Done   5 out of  10 | elapsed:   30.5s remaining:   30.5s\n",
      "[Parallel(n_jobs=-1)]: Done  10 out of  10 | elapsed:   39.6s finished\n"
     ]
    },
    {
     "name": "stdout",
     "output_type": "stream",
     "text": [
      "交叉验证Running time: 0:03:13.185277 Seconds\n",
      "17\n"
     ]
    },
    {
     "name": "stderr",
     "output_type": "stream",
     "text": [
      "[Parallel(n_jobs=-1)]: Using backend LokyBackend with 36 concurrent workers.\n",
      "[Parallel(n_jobs=-1)]: Done   5 out of  10 | elapsed:   31.8s remaining:   31.8s\n",
      "[Parallel(n_jobs=-1)]: Done  10 out of  10 | elapsed:   39.4s finished\n"
     ]
    },
    {
     "name": "stdout",
     "output_type": "stream",
     "text": [
      "交叉验证Running time: 0:03:02.314265 Seconds\n",
      "18\n"
     ]
    },
    {
     "name": "stderr",
     "output_type": "stream",
     "text": [
      "[Parallel(n_jobs=-1)]: Using backend LokyBackend with 36 concurrent workers.\n",
      "[Parallel(n_jobs=-1)]: Done   5 out of  10 | elapsed:   26.6s remaining:   26.6s\n",
      "[Parallel(n_jobs=-1)]: Done  10 out of  10 | elapsed:   30.9s finished\n"
     ]
    },
    {
     "name": "stdout",
     "output_type": "stream",
     "text": [
      "交叉验证Running time: 0:02:49.702382 Seconds\n",
      "19\n"
     ]
    },
    {
     "name": "stderr",
     "output_type": "stream",
     "text": [
      "[Parallel(n_jobs=-1)]: Using backend LokyBackend with 36 concurrent workers.\n",
      "[Parallel(n_jobs=-1)]: Done   5 out of  10 | elapsed:   23.8s remaining:   23.8s\n",
      "[Parallel(n_jobs=-1)]: Done  10 out of  10 | elapsed:   30.4s finished\n"
     ]
    },
    {
     "name": "stdout",
     "output_type": "stream",
     "text": [
      "交叉验证Running time: 0:02:40.041135 Seconds\n",
      "20\n"
     ]
    },
    {
     "name": "stderr",
     "output_type": "stream",
     "text": [
      "[Parallel(n_jobs=-1)]: Using backend LokyBackend with 36 concurrent workers.\n",
      "[Parallel(n_jobs=-1)]: Done   5 out of  10 | elapsed:   25.0s remaining:   25.0s\n",
      "[Parallel(n_jobs=-1)]: Done  10 out of  10 | elapsed:   32.3s finished\n"
     ]
    },
    {
     "name": "stdout",
     "output_type": "stream",
     "text": [
      "交叉验证Running time: 0:02:29.989202 Seconds\n",
      "21\n"
     ]
    },
    {
     "name": "stderr",
     "output_type": "stream",
     "text": [
      "[Parallel(n_jobs=-1)]: Using backend LokyBackend with 36 concurrent workers.\n",
      "[Parallel(n_jobs=-1)]: Done   5 out of  10 | elapsed:   23.8s remaining:   23.8s\n",
      "[Parallel(n_jobs=-1)]: Done  10 out of  10 | elapsed:   32.9s finished\n"
     ]
    },
    {
     "name": "stdout",
     "output_type": "stream",
     "text": [
      "交叉验证Running time: 0:02:17.649233 Seconds\n",
      "22\n"
     ]
    },
    {
     "name": "stderr",
     "output_type": "stream",
     "text": [
      "[Parallel(n_jobs=-1)]: Using backend LokyBackend with 36 concurrent workers.\n",
      "[Parallel(n_jobs=-1)]: Done   5 out of  10 | elapsed:   23.5s remaining:   23.5s\n",
      "[Parallel(n_jobs=-1)]: Done  10 out of  10 | elapsed:   30.9s finished\n"
     ]
    },
    {
     "name": "stdout",
     "output_type": "stream",
     "text": [
      "交叉验证Running time: 0:02:03.011091 Seconds\n",
      "23\n"
     ]
    },
    {
     "name": "stderr",
     "output_type": "stream",
     "text": [
      "[Parallel(n_jobs=-1)]: Using backend LokyBackend with 36 concurrent workers.\n",
      "[Parallel(n_jobs=-1)]: Done   5 out of  10 | elapsed:   20.2s remaining:   20.2s\n",
      "[Parallel(n_jobs=-1)]: Done  10 out of  10 | elapsed:   32.4s finished\n"
     ]
    },
    {
     "name": "stdout",
     "output_type": "stream",
     "text": [
      "交叉验证Running time: 0:01:51.585505 Seconds\n",
      "24\n"
     ]
    },
    {
     "name": "stderr",
     "output_type": "stream",
     "text": [
      "[Parallel(n_jobs=-1)]: Using backend LokyBackend with 36 concurrent workers.\n",
      "[Parallel(n_jobs=-1)]: Done   5 out of  10 | elapsed:   20.3s remaining:   20.3s\n",
      "[Parallel(n_jobs=-1)]: Done  10 out of  10 | elapsed:   26.5s finished\n"
     ]
    },
    {
     "name": "stdout",
     "output_type": "stream",
     "text": [
      "交叉验证Running time: 0:01:35.340294 Seconds\n",
      "25\n"
     ]
    },
    {
     "name": "stderr",
     "output_type": "stream",
     "text": [
      "[Parallel(n_jobs=-1)]: Using backend LokyBackend with 36 concurrent workers.\n",
      "[Parallel(n_jobs=-1)]: Done   5 out of  10 | elapsed:   18.7s remaining:   18.7s\n",
      "[Parallel(n_jobs=-1)]: Done  10 out of  10 | elapsed:   27.3s finished\n"
     ]
    },
    {
     "name": "stdout",
     "output_type": "stream",
     "text": [
      "交叉验证Running time: 0:01:17.297706 Seconds\n",
      "26\n"
     ]
    },
    {
     "name": "stderr",
     "output_type": "stream",
     "text": [
      "[Parallel(n_jobs=-1)]: Using backend LokyBackend with 36 concurrent workers.\n",
      "[Parallel(n_jobs=-1)]: Done   5 out of  10 | elapsed:   18.9s remaining:   18.9s\n",
      "[Parallel(n_jobs=-1)]: Done  10 out of  10 | elapsed:   27.1s finished\n"
     ]
    },
    {
     "name": "stdout",
     "output_type": "stream",
     "text": [
      "交叉验证Running time: 0:01:05.321408 Seconds\n",
      "27\n"
     ]
    },
    {
     "name": "stderr",
     "output_type": "stream",
     "text": [
      "[Parallel(n_jobs=-1)]: Using backend LokyBackend with 36 concurrent workers.\n",
      "[Parallel(n_jobs=-1)]: Done   5 out of  10 | elapsed:   23.3s remaining:   23.3s\n",
      "[Parallel(n_jobs=-1)]: Done  10 out of  10 | elapsed:   30.3s finished\n"
     ]
    },
    {
     "name": "stdout",
     "output_type": "stream",
     "text": [
      "交叉验证Running time: 0:00:55.120006 Seconds\n",
      "28\n"
     ]
    },
    {
     "name": "stderr",
     "output_type": "stream",
     "text": [
      "[Parallel(n_jobs=-1)]: Using backend LokyBackend with 36 concurrent workers.\n",
      "[Parallel(n_jobs=-1)]: Done   5 out of  10 | elapsed:   26.5s remaining:   26.5s\n",
      "[Parallel(n_jobs=-1)]: Done  10 out of  10 | elapsed:   29.3s finished\n"
     ]
    },
    {
     "name": "stdout",
     "output_type": "stream",
     "text": [
      "交叉验证Running time: 0:00:31.780669 Seconds\n",
      "29\n"
     ]
    },
    {
     "name": "stderr",
     "output_type": "stream",
     "text": [
      "[Parallel(n_jobs=-1)]: Using backend LokyBackend with 36 concurrent workers.\n",
      "[Parallel(n_jobs=-1)]: Done   5 out of  10 | elapsed:   26.3s remaining:   26.3s\n",
      "[Parallel(n_jobs=-1)]: Done  10 out of  10 | elapsed:   32.2s finished\n"
     ]
    },
    {
     "name": "stdout",
     "output_type": "stream",
     "text": [
      "交叉验证Running time: 0:00:16.188734 Seconds\n",
      "30\n"
     ]
    },
    {
     "name": "stderr",
     "output_type": "stream",
     "text": [
      "[Parallel(n_jobs=-1)]: Using backend LokyBackend with 36 concurrent workers.\n",
      "[Parallel(n_jobs=-1)]: Done   5 out of  10 | elapsed:   26.1s remaining:   26.1s\n"
     ]
    },
    {
     "name": "stdout",
     "output_type": "stream",
     "text": [
      "Running time: 1:56:45.950453 Seconds\n"
     ]
    },
    {
     "name": "stderr",
     "output_type": "stream",
     "text": [
      "[Parallel(n_jobs=-1)]: Done  10 out of  10 | elapsed:   30.8s finished\n"
     ]
    },
    {
     "data": {
      "image/png": "[encoded data removed]",
      "text/plain": [
       "<Figure size 792x288 with 1 Axes>"
      ]
     },
     "metadata": {
      "needs_background": "light"
     },
     "output_type": "display_data"
    }
   ],
   "source": [
    "from sklearn.feature_selection import RFE\n",
    "from pylab import xticks,yticks,np\n",
    "from sklearn.model_selection import cross_val_score  # 交叉验证\n",
    "from joblib import Parallel, delayed\n",
    "\n",
    "\n",
    "# 定义并行函数\n",
    "def parallel_rfe(selector, X, y):\n",
    "    result = selector.fit_transform(X, y)\n",
    "    return result,selector.support_\n",
    "\n",
    "starttime = datetime.now()\n",
    "\n",
    "# 定义一个准确率\n",
    "high_score=0\n",
    "# 最优需要多少个特征变量\n",
    "num_of_features=0           \n",
    "score_list =[]\n",
    "screening_features = []\n",
    "\n",
    "random_data = shuffle(random_data)\n",
    "X = random_data.iloc[:,2:] #特征\n",
    "y = random_data.iloc[:,1:2].values.ravel() #预测值\n",
    "\n",
    "# X_train, X_test, y_train, y_test = train_test_split(data.iloc[:,2:],data[\"Cp\"], test_size = 0.3, random_state = 0)\n",
    "\n",
    "# 数据标准化处理\n",
    "stand_scaler = StandardScaler()\n",
    "X_std = stand_scaler.fit_transform(X)\n",
    "\n",
    "# 定义模型\n",
    "model =MLPRegressor(random_state=1, max_iter=10000)\n",
    "\n",
    "def coef_abs(estimator):\n",
    "    return np.abs(estimator.coefs_[0].mean(axis=1))\n",
    "\n",
    "for n in range(1,data.shape[1]-1):\n",
    "\n",
    "    starttime_1 = datetime.now()\n",
    "    rfe_model = RFE(model, n_features_to_select = n,step=1, importance_getter=coef_abs)\n",
    "#         X_rfe = rfe_model.fit_transform(rest_std,y)\n",
    "    X_rfe = Parallel(n_jobs=-1)(delayed(parallel_rfe)(rfe_model, X_std, y) for i in range(10))\n",
    "    select_features = random_data.columns[2:][X_rfe[0][1]]\n",
    "    endtime_1 = datetime.now()\n",
    "    print('交叉验证Running time: %s Seconds'%(endtime_1-starttime_1))\n",
    "    print(len(select_features))\n",
    "\n",
    "    screening_features.append(select_features)\n",
    "    score = cross_val_score(estimator=model, X=X_rfe[0][0], y=y, cv=10, scoring='r2',n_jobs=-1,verbose=1).mean()\n",
    "#     score = r2_score(y_test_1,model.predict(X_test_rfe_model))\n",
    "    score_list.append(score)\n",
    "\n",
    "endtime = datetime.now()\n",
    "\n",
    "print('Running time: %s Seconds'%(endtime-starttime))\n",
    "\n",
    "# 画出不同特征数量下得分\n",
    "plt.figure(figsize=(11,4))\n",
    "plt.title(\"Features-R2\")\n",
    "#  选择的特征数量\n",
    "plt.xlabel(\"Number of features selected\")\n",
    "# 交叉验证得分\n",
    "plt.ylabel(\"R2_Score\")\n",
    "\n",
    "# 修改横轴坐标刻度\n",
    "# xticks(np.linspace(1,11,10,endpoint=True))\n",
    "# yticks(np.linspace(0.7,1,7,endpoint=True))\n",
    "\n",
    "# 画出各个特征的得分\n",
    "plt.plot(range(1, len(score_list)+1),score_list)\n",
    "plt.grid()\n",
    "plt.show()"
   ]
  },
  {
   "cell_type": "code",
   "execution_count": 4,
   "metadata": {},
   "outputs": [],
   "source": [
    "# Rdkit+Mordrd\n",
    "screening_features_1 = screening_features.copy()\n",
    "score_list_1 = score_list.copy()"
   ]
  },
  {
   "cell_type": "code",
   "execution_count": 7,
   "metadata": {},
   "outputs": [],
   "source": [
    "# Mordrd\n",
    "screening_features_2 = screening_features.copy()\n",
    "score_list_2 = score_list.copy()"
   ]
  },
  {
   "cell_type": "code",
   "execution_count": 10,
   "metadata": {},
   "outputs": [],
   "source": [
    "# Rdkit\n",
    "screening_features_3 = screening_features.copy()\n",
    "score_list_3 = score_list.copy()"
   ]
  },
  {
   "cell_type": "code",
   "execution_count": 11,
   "metadata": {},
   "outputs": [
    {
     "data": {
      "image/png": "[encoded data removed]",
      "text/plain": [
       "<Figure size 1080x432 with 1 Axes>"
      ]
     },
     "metadata": {
      "needs_background": "light"
     },
     "output_type": "display_data"
    }
   ],
   "source": [
    "# 画出不同特征数量下得分\n",
    "plt.figure(figsize=(15,6))\n",
    "plt.title(\"Features-R2\")\n",
    "#  选择的特征数量\n",
    "plt.xlabel(\"Number of features selected\")\n",
    "# 交叉验证得分\n",
    "plt.ylabel(\"R2_Score\")\n",
    "\n",
    "# 修改横轴坐标刻度\n",
    "xticks(np.linspace(1,31,16,endpoint=True))\n",
    "# yticks(np.linspace(0.7,1,7,endpoint=True))\n",
    "\n",
    "# 画出各个特征的得分\n",
    "\n",
    "plt.plot(range(1, len(score_list_2[:20])+1),score_list_1[:20]) #Rdkit+Mordrd\n",
    "plt.plot(range(1, len(score_list_3[:20])+1),score_list_3[:20]) #Rdkit\n",
    "plt.plot(range(1, len(score_list_3[:20])+1),score_list_2[:20]) #Mordrd\n",
    "\n",
    "plt.legend(['Rdkit+Mordrd', 'Rdkit', 'Mordrd'])\n",
    "\n",
    "plt.grid()\n",
    "plt.show()"
   ]
  },
  {
   "cell_type": "code",
   "execution_count": 13,
   "metadata": {},
   "outputs": [
    {
     "name": "stdout",
     "output_type": "stream",
     "text": [
      "Rdkit+Mordrd R2: 0.902174369868861 Features: Index(['AATS2m', 'ATSC0dv', 'ATSC0Z', 'ATSC3m', 'ATSC1are', 'GATS1s',\n",
      "       'GATS1are', 'nBondsM', 'SMR_VSA1', 'mZagreb1'],\n",
      "      dtype='object')\n",
      "Rdkit R2: 0.8572332718697521 Features: Index(['MaxEStateIndex', 'BCUT2D_MRHI', 'BertzCT', 'Chi4v', 'Kappa1', 'Kappa3',\n",
      "       'SMR_VSA1', 'SlogP_VSA2', 'EState_VSA5', 'VSA_EState8'],\n",
      "      dtype='object')\n",
      "Mordrd R2: 0.8493373312971515 Features: Index(['AATS2m', 'ATSC1dv', 'ATSC0Z', 'ATSC1are', 'ATSC1p', 'AATSC0i',\n",
      "       'GATS1s', 'GATS1are', 'BCUTdv-1l', 'VSA_EState5'],\n",
      "      dtype='object')\n"
     ]
    }
   ],
   "source": [
    "b = 10\n",
    "print('Rdkit+Mordrd','R2:',score_list_1[b-1],'Features:',screening_features_1[b-1])\n",
    "print('Rdkit','R2:',score_list_3[b-1],'Features:',screening_features_3[b-1])\n",
    "print('Mordrd','R2:',score_list_2[b-1],'Features:',screening_features_2[b-1])"
   ]
  },
  {
   "cell_type": "code",
   "execution_count": 17,
   "metadata": {},
   "outputs": [
    {
     "data": {
      "text/html": [
       "<div>\n",
       "<style scoped>\n",
       "    .dataframe tbody tr th:only-of-type {\n",
       "        vertical-align: middle;\n",
       "    }\n",
       "\n",
       "    .dataframe tbody tr th {\n",
       "        vertical-align: top;\n",
       "    }\n",
       "\n",
       "    .dataframe thead th {\n",
       "        text-align: right;\n",
       "    }\n",
       "</style>\n",
       "<table border=\"1\" class=\"dataframe\">\n",
       "  <thead>\n",
       "    <tr style=\"text-align: right;\">\n",
       "      <th></th>\n",
       "      <th>NAME</th>\n",
       "      <th>LEF</th>\n",
       "      <th>AATS2m</th>\n",
       "      <th>ATSC0dv</th>\n",
       "      <th>ATSC0Z</th>\n",
       "      <th>ATSC3m</th>\n",
       "      <th>ATSC1are</th>\n",
       "      <th>GATS1s</th>\n",
       "      <th>GATS1are</th>\n",
       "      <th>nBondsM</th>\n",
       "      <th>SMR_VSA1</th>\n",
       "      <th>mZagreb1</th>\n",
       "    </tr>\n",
       "  </thead>\n",
       "  <tbody>\n",
       "    <tr>\n",
       "      <th>0</th>\n",
       "      <td>79-06-1</td>\n",
       "      <td>-224.0</td>\n",
       "      <td>66.953236</td>\n",
       "      <td>41.600000</td>\n",
       "      <td>81.600000</td>\n",
       "      <td>-172.583472</td>\n",
       "      <td>-0.350029</td>\n",
       "      <td>0.901163</td>\n",
       "      <td>0.875981</td>\n",
       "      <td>2</td>\n",
       "      <td>4.794537</td>\n",
       "      <td>3.361111</td>\n",
       "    </tr>\n",
       "    <tr>\n",
       "      <th>1</th>\n",
       "      <td>79-09-4</td>\n",
       "      <td>-510.8</td>\n",
       "      <td>55.342566</td>\n",
       "      <td>52.545455</td>\n",
       "      <td>96.545455</td>\n",
       "      <td>-91.605303</td>\n",
       "      <td>-0.318512</td>\n",
       "      <td>0.809642</td>\n",
       "      <td>0.816129</td>\n",
       "      <td>1</td>\n",
       "      <td>9.901065</td>\n",
       "      <td>3.361111</td>\n",
       "    </tr>\n",
       "    <tr>\n",
       "      <th>2</th>\n",
       "      <td>51-79-6</td>\n",
       "      <td>-497.3</td>\n",
       "      <td>61.193475</td>\n",
       "      <td>64.769231</td>\n",
       "      <td>114.769231</td>\n",
       "      <td>-118.836680</td>\n",
       "      <td>-0.420676</td>\n",
       "      <td>0.816550</td>\n",
       "      <td>0.900079</td>\n",
       "      <td>1</td>\n",
       "      <td>9.531400</td>\n",
       "      <td>3.611111</td>\n",
       "    </tr>\n",
       "    <tr>\n",
       "      <th>3</th>\n",
       "      <td>55-63-0</td>\n",
       "      <td>-370.0</td>\n",
       "      <td>129.221864</td>\n",
       "      <td>139.200000</td>\n",
       "      <td>163.200000</td>\n",
       "      <td>49.955112</td>\n",
       "      <td>1.961530</td>\n",
       "      <td>0.757660</td>\n",
       "      <td>0.413528</td>\n",
       "      <td>3</td>\n",
       "      <td>29.772623</td>\n",
       "      <td>7.694444</td>\n",
       "    </tr>\n",
       "    <tr>\n",
       "      <th>4</th>\n",
       "      <td>56-81-5</td>\n",
       "      <td>-669.6</td>\n",
       "      <td>52.597665</td>\n",
       "      <td>57.428571</td>\n",
       "      <td>129.428571</td>\n",
       "      <td>2.160420</td>\n",
       "      <td>-1.030408</td>\n",
       "      <td>1.223969</td>\n",
       "      <td>1.153132</td>\n",
       "      <td>0</td>\n",
       "      <td>15.319582</td>\n",
       "      <td>3.611111</td>\n",
       "    </tr>\n",
       "  </tbody>\n",
       "</table>\n",
       "</div>"
      ],
      "text/plain": [
       "      NAME    LEF      AATS2m     ATSC0dv      ATSC0Z      ATSC3m  ATSC1are  \\\n",
       "0  79-06-1 -224.0   66.953236   41.600000   81.600000 -172.583472 -0.350029   \n",
       "1  79-09-4 -510.8   55.342566   52.545455   96.545455  -91.605303 -0.318512   \n",
       "2  51-79-6 -497.3   61.193475   64.769231  114.769231 -118.836680 -0.420676   \n",
       "3  55-63-0 -370.0  129.221864  139.200000  163.200000   49.955112  1.961530   \n",
       "4  56-81-5 -669.6   52.597665   57.428571  129.428571    2.160420 -1.030408   \n",
       "\n",
       "     GATS1s  GATS1are  nBondsM   SMR_VSA1  mZagreb1  \n",
       "0  0.901163  0.875981        2   4.794537  3.361111  \n",
       "1  0.809642  0.816129        1   9.901065  3.361111  \n",
       "2  0.816550  0.900079        1   9.531400  3.611111  \n",
       "3  0.757660  0.413528        3  29.772623  7.694444  \n",
       "4  1.223969  1.153132        0  15.319582  3.611111  "
      ]
     },
     "execution_count": 17,
     "metadata": {},
     "output_type": "execute_result"
    }
   ],
   "source": [
    "# 选择几个特征\n",
    "c = 10\n",
    "select_features = screening_features_1[c-1]\n",
    "select_features = select_features.insert(0,\"LEF\")\n",
    "select_features = select_features.insert(0,\"NAME\")\n",
    "data.loc[:,select_features].to_excel(\"Data/LEF-Mordred+Rdkit_only-NNR-10-fearures.xlsx\")\n",
    "pd.read_excel('Data/LEF-Mordred+Rdkit_only-NNR-10-fearures.xlsx',index_col=0).head()"
   ]
  },
  {
   "cell_type": "code",
   "execution_count": 18,
   "metadata": {},
   "outputs": [],
   "source": [
    "pd.DataFrame(list(zip(screening_features_1,score_list_1))).to_excel(\"Data/LEF-Mordred+Rdkit_only-NNR-score_list.xlsx\")"
   ]
  }
 ],
 "metadata": {
  "kernelspec": {
   "display_name": "Python 3",
   "language": "python",
   "name": "python3"
  },
  "language_info": {
   "codemirror_mode": {
    "name": "ipython",
    "version": 3
   },
   "file_extension": ".py",
   "mimetype": "text/x-python",
   "name": "python",
   "nbconvert_exporter": "python",
   "pygments_lexer": "ipython3",
   "version": "3.7.6"
  }
 },
 "nbformat": 4,
 "nbformat_minor": 4
}
